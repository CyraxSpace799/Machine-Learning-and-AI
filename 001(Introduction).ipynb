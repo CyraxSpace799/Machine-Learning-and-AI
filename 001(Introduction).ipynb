{
  "nbformat": 4,
  "nbformat_minor": 0,
  "metadata": {
    "colab": {
      "name": "001(Introduction).ipynb",
      "version": "0.3.2",
      "provenance": [],
      "include_colab_link": true
    },
    "kernelspec": {
      "name": "python3",
      "display_name": "Python 3"
    }
  },
  "cells": [
    {
      "cell_type": "markdown",
      "metadata": {
        "id": "view-in-github",
        "colab_type": "text"
      },
      "source": [
        "<a href=\"https://colab.research.google.com/github/CyraxSpace799/Machine-Learning-and-AI/blob/master/001(Introduction).ipynb\" target=\"_parent\"><img src=\"https://colab.research.google.com/assets/colab-badge.svg\" alt=\"Open In Colab\"/></a>"
      ]
    },
    {
      "metadata": {
        "id": "tUawvj0ZZqSS",
        "colab_type": "text"
      },
      "cell_type": "markdown",
      "source": [
        "# ***PYTHON***\n",
        "##Coming to its history:\n",
        "### Python is an interpreted, high-level, general-purpose programming language. Created by Guido van Rossum and first released in 1991, Python has a design philosophy that emphasizes code readability, notably using significant whitespace. It provides constructs that enable clear programming on both small and large scales.\n",
        "\n"
      ]
    },
    {
      "metadata": {
        "id": "W4Dtk0enbQy7",
        "colab_type": "text"
      },
      "cell_type": "markdown",
      "source": [
        "# ***Basics***"
      ]
    },
    {
      "metadata": {
        "id": "gMlA2prxbaIR",
        "colab_type": "code",
        "colab": {}
      },
      "cell_type": "code",
      "source": [
        "# The Zen of Python\n",
        "import something\n"
      ],
      "execution_count": 0,
      "outputs": []
    },
    {
      "metadata": {
        "id": "bHtXoANSbj2h",
        "colab_type": "code",
        "colab": {}
      },
      "cell_type": "code",
      "source": [
        "# Comments\n",
        "# This is a single line comment\n",
        "''' This is a multiline comment\n",
        "    pretty awesome!!\n",
        "    Let me introduce you to Pyhton!'''"
      ],
      "execution_count": 0,
      "outputs": []
    },
    {
      "metadata": {
        "id": "NSza5T4ab8er",
        "colab_type": "code",
        "colab": {}
      },
      "cell_type": "code",
      "source": [
        "# Simple imports\n",
        "import math\n",
        "import random"
      ],
      "execution_count": 0,
      "outputs": []
    },
    {
      "metadata": {
        "id": "PnSpcpnWcPNC",
        "colab_type": "text"
      },
      "cell_type": "markdown",
      "source": [
        "Here **math** and **random** are called Modules\n",
        "\n",
        "**Module** :- A module is a Python object with arbitrarily named attributes that you can bind and reference. Simply, a module is a file consisting of Python code. A module can define functions, classes and variables. A module can also include runnable code."
      ]
    },
    {
      "metadata": {
        "id": "47mcw9R9dDGF",
        "colab_type": "text"
      },
      "cell_type": "markdown",
      "source": [
        "### Import of Functions"
      ]
    },
    {
      "metadata": {
        "id": "DGsKXqrycvbG",
        "colab_type": "code",
        "colab": {}
      },
      "cell_type": "code",
      "source": [
        "# importing specific functions from modules\n",
        "# imports just the factorial function from math\n",
        "from math import factorial\n",
        "\n",
        "# imports all the functions from math\n",
        "from math import *"
      ],
      "execution_count": 0,
      "outputs": []
    },
    {
      "metadata": {
        "id": "VrU9R1uNdpcN",
        "colab_type": "text"
      },
      "cell_type": "markdown",
      "source": [
        "###Giving aliases"
      ]
    },
    {
      "metadata": {
        "id": "l1ru798Sd3MM",
        "colab_type": "text"
      },
      "cell_type": "markdown",
      "source": [
        "In Python, aliasing happens whenever one module is given a short name Or \n",
        "variable's value is assigned to another variable, because variables are just names that store references to values."
      ]
    },
    {
      "metadata": {
        "id": "kREtr2aAdo3Y",
        "colab_type": "code",
        "colab": {}
      },
      "cell_type": "code",
      "source": [
        "# The Module name is alaised\n",
        "import math as m\n",
        "\n",
        "# The function name is alaised\n",
        "from math import factorial as fact"
      ],
      "execution_count": 0,
      "outputs": []
    },
    {
      "metadata": {
        "id": "gNS05BxberXu",
        "colab_type": "text"
      },
      "cell_type": "markdown",
      "source": [
        "###Calling an Inported Function:\n"
      ]
    },
    {
      "metadata": {
        "id": "0uNPy_yLdJnO",
        "colab_type": "code",
        "colab": {}
      },
      "cell_type": "code",
      "source": [
        "# If you import the module you have to call the functions from the module\n",
        "import math\n",
        "print (math.factorial(12))\n",
        "\n",
        "# If you import the functions you can call the function as if it is in your program\n",
        "from random import randrange as rg\n",
        "print (rg(23, 1000))"
      ],
      "execution_count": 0,
      "outputs": []
    },
    {
      "metadata": {
        "id": "AVpQF0U5e7KK",
        "colab_type": "text"
      },
      "cell_type": "markdown",
      "source": [
        "###Variables in Python"
      ]
    },
    {
      "metadata": {
        "id": "UFy8KlrUe2kt",
        "colab_type": "code",
        "colab": {}
      },
      "cell_type": "code",
      "source": [
        "# Variables\n",
        "msg = \"Python!\"  # String\n",
        "v2 = 'Python!'   # Also String works same\n",
        "v1 = 2           # Numbers\n",
        "v3 = 3.564       # Floats / Doubles\n",
        "v4 = True        # Boolean (True / False)"
      ],
      "execution_count": 0,
      "outputs": []
    },
    {
      "metadata": {
        "id": "8nZCGgxffKEv",
        "colab_type": "text"
      },
      "cell_type": "markdown",
      "source": [
        "###Printing"
      ]
    },
    {
      "metadata": {
        "id": "M5g_3TCPfNy2",
        "colab_type": "code",
        "colab": {}
      },
      "cell_type": "code",
      "source": [
        "# print() \n",
        "# automatically adds a newline\n",
        "print (msg)\n",
        "print (v2)\n",
        "print (v1)\n",
        "print (v3)\n",
        "print (v4)\n",
        "print (\"Hello world!\")"
      ],
      "execution_count": 0,
      "outputs": []
    },
    {
      "metadata": {
        "id": "ge2m8GRHfc7l",
        "colab_type": "code",
        "colab": {}
      },
      "cell_type": "code",
      "source": [
        "# Note: Both \" and ' can be used to make strings. And this flexibility allows for the following:\n",
        "msg2 = 'Jennifer said, \"I love Python!\"'\n",
        "msg3 = \"After that Jennifer's Python Interpreter said it back to her!\"\n",
        "msg4 = 'Of Course she used the command `print(\"I love Jennifer\")`'\n",
        "\n",
        "print (msg2)\n",
        "print (msg3)\n",
        "print (msg4)"
      ],
      "execution_count": 0,
      "outputs": []
    }
  ]
}